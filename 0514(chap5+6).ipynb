{
 "cells": [
  {
   "cell_type": "markdown",
   "metadata": {},
   "source": [
    "# Chap 5\n",
    "## 函式\n",
    "### 傳統的寫法"
   ]
  },
  {
   "cell_type": "code",
   "execution_count": 2,
   "metadata": {},
   "outputs": [
    {
     "name": "stdout",
     "output_type": "stream",
     "text": [
      "請輸入圓的半徑10\n",
      "圓的半徑為： 314.1592653589793\n"
     ]
    }
   ],
   "source": [
    "import math\n",
    "radius = eval(input(\"請輸入圓的半徑\")) #把輸入的字串變成數學的計算型態\n",
    "print(\"圓的半徑為：\",radius * radius * math.pi)"
   ]
  },
  {
   "cell_type": "markdown",
   "metadata": {},
   "source": [
    "# 面積計算函示"
   ]
  },
  {
   "cell_type": "code",
   "execution_count": 7,
   "metadata": {},
   "outputs": [
    {
     "name": "stdout",
     "output_type": "stream",
     "text": [
      "314.1592653589793\n"
     ]
    }
   ],
   "source": [
    "import math\n",
    "def circle_area(radius):\n",
    "    area = radius * radius * math.pi\n",
    "    return area\n",
    "print(circle_area(10))"
   ]
  },
  {
   "cell_type": "markdown",
   "metadata": {},
   "source": [
    "# Chap 6\n",
    "## os套件：用來處理文件與目錄，與檔案相關操作"
   ]
  },
  {
   "cell_type": "code",
   "execution_count": 1,
   "metadata": {},
   "outputs": [
    {
     "name": "stdout",
     "output_type": "stream",
     "text": [
      "C:\\Users\\Administrator\\Desktop\n"
     ]
    }
   ],
   "source": [
    "import os\n",
    "print(os.getcwd()) #顯示目前所在的目錄"
   ]
  },
  {
   "cell_type": "code",
   "execution_count": 2,
   "metadata": {},
   "outputs": [
    {
     "data": {
      "text/plain": [
       "['.ipynb_checkpoints',\n",
       " '0507(chap5).ipynb',\n",
       " 'Access.lnk',\n",
       " 'Anaconda Navigator (anaconda3).lnk',\n",
       " 'Cisco Packet Tracer Student.lnk',\n",
       " 'Cisco Packet Tracer.lnk',\n",
       " 'desktop.ini',\n",
       " 'Eclipse.lnk',\n",
       " 'Excel.lnk',\n",
       " 'Microsoft SQL Server Management Studio 18.lnk',\n",
       " 'PowerPoint.lnk',\n",
       " 'PuTTY.lnk',\n",
       " 'SQLDeveloper.lnk',\n",
       " 'VirtualBox.lnk',\n",
       " 'Visual Studio 2019.lnk',\n",
       " 'Visual Studio Code.lnk',\n",
       " 'Word.lnk',\n",
       " 'XAMPP Control Panel.lnk']"
      ]
     },
     "execution_count": 2,
     "metadata": {},
     "output_type": "execute_result"
    }
   ],
   "source": [
    "#顯示目錄下的檔案\n",
    "os.listdir('.')"
   ]
  },
  {
   "cell_type": "code",
   "execution_count": 8,
   "metadata": {},
   "outputs": [
    {
     "data": {
      "text/plain": [
       "['.ipynb_checkpoints',\n",
       " '0507(chap5).ipynb',\n",
       " 'Access.lnk',\n",
       " 'Anaconda Navigator (anaconda3).lnk',\n",
       " 'Cisco Packet Tracer Student.lnk',\n",
       " 'Cisco Packet Tracer.lnk',\n",
       " 'desktop.ini',\n",
       " 'Eclipse.lnk',\n",
       " 'Excel.lnk',\n",
       " 'Microsoft SQL Server Management Studio 18.lnk',\n",
       " 'PowerPoint.lnk',\n",
       " 'PuTTY.lnk',\n",
       " 'SQLDeveloper.lnk',\n",
       " 'test',\n",
       " 'test1',\n",
       " 'VirtualBox.lnk',\n",
       " 'Visual Studio 2019.lnk',\n",
       " 'Visual Studio Code.lnk',\n",
       " 'Word.lnk',\n",
       " 'XAMPP Control Panel.lnk']"
      ]
     },
     "execution_count": 8,
     "metadata": {},
     "output_type": "execute_result"
    }
   ],
   "source": [
    "#新增目錄\n",
    "os.makedirs(\"test\")\n",
    "os.listdir(\".\")"
   ]
  },
  {
   "cell_type": "code",
   "execution_count": 10,
   "metadata": {},
   "outputs": [
    {
     "data": {
      "text/plain": [
       "['.ipynb_checkpoints',\n",
       " '0507(chap5).ipynb',\n",
       " 'Access.lnk',\n",
       " 'Anaconda Navigator (anaconda3).lnk',\n",
       " 'Cisco Packet Tracer Student.lnk',\n",
       " 'Cisco Packet Tracer.lnk',\n",
       " 'desktop.ini',\n",
       " 'Eclipse.lnk',\n",
       " 'Excel.lnk',\n",
       " 'Microsoft SQL Server Management Studio 18.lnk',\n",
       " 'PowerPoint.lnk',\n",
       " 'PuTTY.lnk',\n",
       " 'SQLDeveloper.lnk',\n",
       " 'VirtualBox.lnk',\n",
       " 'Visual Studio 2019.lnk',\n",
       " 'Visual Studio Code.lnk',\n",
       " 'Word.lnk',\n",
       " 'XAMPP Control Panel.lnk']"
      ]
     },
     "execution_count": 10,
     "metadata": {},
     "output_type": "execute_result"
    }
   ],
   "source": [
    "#移除目錄\n",
    "os.rmdir(\"test1\")\n",
    "os.listdir(\".\")"
   ]
  },
  {
   "cell_type": "markdown",
   "metadata": {},
   "source": [
    "## 檔案處理\n",
    "os套件有自己的檔案處理命令，且比較常用的是python內建的open\n",
    "* w = 可寫(預設建立檔案) 若檔案存在則會清除舊檔案\n",
    "* w+ = 可寫可讀(預設建立檔案) 若檔案存在則會清除舊檔案\n",
    "* c = 可讀\n",
    "* c+ = 可寫可讀 但寫入資料指向開頭\n",
    "* a = 可寫不能讀 寫入資料指向尾端\n",
    "* a+ = 可寫可讀 寫入資料指向尾端\n",
    "* b = 轉為2進位文件\n",
    "* ab+ = 2進位文件的讀寫 寫入資料指向尾端"
   ]
  },
  {
   "cell_type": "markdown",
   "metadata": {},
   "source": [
    "# 新增檔案"
   ]
  },
  {
   "cell_type": "code",
   "execution_count": 14,
   "metadata": {},
   "outputs": [],
   "source": [
    "a=open(\"a.txt\",\"w\") #新增檔案\n",
    "a.write(\"This is a test1\")\n",
    "a.write(\"This is a test2\\n\")\n",
    "a.write(\"This is a test3\\n\")\n",
    "a.close() #關閉檔案"
   ]
  },
  {
   "cell_type": "markdown",
   "metadata": {},
   "source": [
    "## 檢查檔案是否存在"
   ]
  },
  {
   "cell_type": "code",
   "execution_count": 15,
   "metadata": {},
   "outputs": [
    {
     "data": {
      "text/plain": [
       "True"
      ]
     },
     "execution_count": 15,
     "metadata": {},
     "output_type": "execute_result"
    }
   ],
   "source": [
    "os.path.isfile(\"a.txt\")"
   ]
  },
  {
   "cell_type": "markdown",
   "metadata": {},
   "source": [
    "## 讀取檔案"
   ]
  },
  {
   "cell_type": "code",
   "execution_count": 17,
   "metadata": {},
   "outputs": [
    {
     "name": "stdout",
     "output_type": "stream",
     "text": [
      "This is a test1This is a test2\n",
      "\n",
      "This is a test3\n",
      "\n",
      "\n"
     ]
    }
   ],
   "source": [
    "a=open(\"a.txt\",\"r\")\n",
    "print(a.readline())\n",
    "print(a.readline())\n",
    "print(a.readline()) #多餘的命令，檔案只有2行\n",
    "a.close()"
   ]
  },
  {
   "cell_type": "code",
   "execution_count": 20,
   "metadata": {},
   "outputs": [
    {
     "name": "stdout",
     "output_type": "stream",
     "text": [
      "['This is a test1This is a test2\\n', 'This is a test3\\n']\n"
     ]
    }
   ],
   "source": [
    "a=open(\"a.txt\",\"r\")\n",
    "print(a.readlines()) #一次讀取多行 與a.read()命令相同\n",
    "a.close()"
   ]
  },
  {
   "cell_type": "code",
   "execution_count": 21,
   "metadata": {},
   "outputs": [
    {
     "name": "stdout",
     "output_type": "stream",
     "text": [
      "['This is a test1This is a test2\\n', 'This is a test3\\n']\n"
     ]
    }
   ],
   "source": [
    "#加上檔案是否存在的判斷\n",
    "if os.path.isfile(\"a.txt\"):\n",
    "    a=open(\"a.txt\",\"r\")\n",
    "    print(a.readlines())\n",
    "    a.close()\n",
    "else:\n",
    "    print(\"檔案不存在\")"
   ]
  },
  {
   "cell_type": "markdown",
   "metadata": {},
   "source": [
    "# split函式"
   ]
  },
  {
   "cell_type": "code",
   "execution_count": 22,
   "metadata": {},
   "outputs": [
    {
     "name": "stdout",
     "output_type": "stream",
     "text": [
      "['This', 'is', 'a', 'test1This', 'is', 'a', 'test2\\n']\n",
      "['This', 'is', 'a', 'test3\\n']\n"
     ]
    }
   ],
   "source": [
    "if os.path.isfile(\"a.txt\"):\n",
    "    a=open(\"a.txt\",\"r\")\n",
    "    for line in a:\n",
    "        fields=line.split(\" \") #以空白為切割欄位\n",
    "        print(fields)\n",
    "    a.close()\n",
    "else:\n",
    "    print(\"檔案不存在\")"
   ]
  },
  {
   "cell_type": "markdown",
   "metadata": {},
   "source": [
    "# 附加檔案"
   ]
  },
  {
   "cell_type": "code",
   "execution_count": 23,
   "metadata": {},
   "outputs": [],
   "source": [
    "a=open(\"a.txt\",\"a\")\n",
    "a.write(\"This is test4\\n\")\n",
    "a.close()"
   ]
  },
  {
   "cell_type": "code",
   "execution_count": 24,
   "metadata": {},
   "outputs": [
    {
     "name": "stdout",
     "output_type": "stream",
     "text": [
      "['This is a test1This is a test2\\n', 'This is a test3\\n', 'This is test4\\n']\n"
     ]
    }
   ],
   "source": [
    "a=open(\"a.txt\",\"r\")\n",
    "print(a.readlines())\n",
    "a.close()"
   ]
  },
  {
   "cell_type": "markdown",
   "metadata": {},
   "source": [
    "# 比較a與r+的不同\n",
    "* a寫在檔案的結尾\n",
    "* r+寫在檔案的開頭"
   ]
  },
  {
   "cell_type": "code",
   "execution_count": 25,
   "metadata": {},
   "outputs": [],
   "source": [
    "a=open(\"a.txt\",\"r+\")\n",
    "a.write(\"This is a test5\\n\")\n",
    "a.close()"
   ]
  },
  {
   "cell_type": "code",
   "execution_count": 26,
   "metadata": {},
   "outputs": [
    {
     "name": "stdout",
     "output_type": "stream",
     "text": [
      "['This is a test5\\n', 'is is a test2\\n', 'This is a test3\\n', 'This is test4\\n']\n"
     ]
    }
   ],
   "source": [
    "a=open(\"a.txt\",\"r+\")\n",
    "print(a.readlines())\n",
    "a.close()"
   ]
  },
  {
   "cell_type": "markdown",
   "metadata": {},
   "source": [
    "# 刪除檔案"
   ]
  },
  {
   "cell_type": "code",
   "execution_count": 28,
   "metadata": {},
   "outputs": [
    {
     "name": "stdout",
     "output_type": "stream",
     "text": [
      "找不到檔案\n",
      "False\n"
     ]
    }
   ],
   "source": [
    "if os.path.isfile(\"a.txt\"):\n",
    "    os.remove(\"a.txt\")\n",
    "    print(\"檔案刪除成功\")\n",
    "else:\n",
    "    print(\"找不到檔案\")\n",
    "print(os.path.isfile(\"a.txt\"))"
   ]
  },
  {
   "cell_type": "code",
   "execution_count": null,
   "metadata": {},
   "outputs": [],
   "source": []
  }
 ],
 "metadata": {
  "kernelspec": {
   "display_name": "Python 3",
   "language": "python",
   "name": "python3"
  },
  "language_info": {
   "codemirror_mode": {
    "name": "ipython",
    "version": 3
   },
   "file_extension": ".py",
   "mimetype": "text/x-python",
   "name": "python",
   "nbconvert_exporter": "python",
   "pygments_lexer": "ipython3",
   "version": "3.8.5"
  }
 },
 "nbformat": 4,
 "nbformat_minor": 4
}
